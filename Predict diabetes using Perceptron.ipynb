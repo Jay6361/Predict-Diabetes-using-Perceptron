{
 "cells": [
  {
   "cell_type": "markdown",
   "id": "9c0916c2",
   "metadata": {},
   "source": [
    "## Procedure\n",
    "\n",
    "1. Import Libraries\n",
    "2. Load the PIMA Indian diabetes dataset\n",
    "3. Exploratory data analysis\n",
    "    1. Spread of the data\n",
    "    2. Encoding of the target variable (Convert label 0 to (-1))\n",
    "    3. Missing values\n",
    "    4. Unique label values\n",
    "    5. Frequency of each label (to check biasness)\n",
    "4. Spit the data into train and test\n",
    "5. Data Pre-processing\n",
    "    1. Convert to numpy array (perceptron takes numpy array as an input)\n",
    "    2. Rescale the input features (perceptron converges faster with scaled data)\n",
    "6. Design Perceptron\n",
    "    1. Takes learning rate and number of iterations as default parameters.\n",
    "    2. Defined fit method to fit/feed data to perceptron.\n",
    "    3. Defined predict method for diabetes detection.\n",
    "    4. Defined activation method to activate a neuron as an activation function.\n",
    "    5. Defined get_accuracy method to display overall accuracy.\n",
    "    6. Defined get_report method which provides classification report.\n",
    "    7. Defined get_sens_spec method to show true positive and true negative rate.\n",
    "    8. Defined tuning method which tunes the hyperparameters to achieve optimal performance."
   ]
  },
  {
   "cell_type": "markdown",
   "id": "9fc98031",
   "metadata": {},
   "source": [
    "## Import Libraries"
   ]
  },
  {
   "cell_type": "code",
   "execution_count": 1,
   "id": "862c3bc5",
   "metadata": {},
   "outputs": [],
   "source": [
    "# Data processing, file I/O etc\n",
    "import pandas as pd\n",
    "# Mathematical operations (Linear algebra)\n",
    "import numpy as np\n",
    "# Visualisation\n",
    "import matplotlib.pyplot as plt\n",
    "import seaborn as sns\n",
    "# Split the data\n",
    "from sklearn.model_selection import train_test_split\n",
    "# Data scaling (standardization)\n",
    "from sklearn.preprocessing import StandardScaler\n",
    "# Performance Metrics\n",
    "from sklearn.metrics import classification_report\n",
    "from sklearn.metrics import confusion_matrix\n",
    "# Neglate warnings\n",
    "import warnings\n",
    "warnings.filterwarnings(\"ignore\")"
   ]
  },
  {
   "cell_type": "markdown",
   "id": "bf1ce877",
   "metadata": {},
   "source": [
    "## Load the dataset"
   ]
  },
  {
   "cell_type": "code",
   "execution_count": 2,
   "id": "a3b09845",
   "metadata": {},
   "outputs": [
    {
     "data": {
      "text/html": [
       "<div>\n",
       "<style scoped>\n",
       "    .dataframe tbody tr th:only-of-type {\n",
       "        vertical-align: middle;\n",
       "    }\n",
       "\n",
       "    .dataframe tbody tr th {\n",
       "        vertical-align: top;\n",
       "    }\n",
       "\n",
       "    .dataframe thead th {\n",
       "        text-align: right;\n",
       "    }\n",
       "</style>\n",
       "<table border=\"1\" class=\"dataframe\">\n",
       "  <thead>\n",
       "    <tr style=\"text-align: right;\">\n",
       "      <th></th>\n",
       "      <th>Pregnancies</th>\n",
       "      <th>Glucose</th>\n",
       "      <th>BloodPressure</th>\n",
       "      <th>SkinThickness</th>\n",
       "      <th>Insulin</th>\n",
       "      <th>BMI</th>\n",
       "      <th>DiabetesPedigreeFunction</th>\n",
       "      <th>Age</th>\n",
       "      <th>Outcome</th>\n",
       "    </tr>\n",
       "  </thead>\n",
       "  <tbody>\n",
       "    <tr>\n",
       "      <th>0</th>\n",
       "      <td>6</td>\n",
       "      <td>148</td>\n",
       "      <td>72</td>\n",
       "      <td>35</td>\n",
       "      <td>0</td>\n",
       "      <td>33.6</td>\n",
       "      <td>0.627</td>\n",
       "      <td>50</td>\n",
       "      <td>1</td>\n",
       "    </tr>\n",
       "    <tr>\n",
       "      <th>1</th>\n",
       "      <td>1</td>\n",
       "      <td>85</td>\n",
       "      <td>66</td>\n",
       "      <td>29</td>\n",
       "      <td>0</td>\n",
       "      <td>26.6</td>\n",
       "      <td>0.351</td>\n",
       "      <td>31</td>\n",
       "      <td>0</td>\n",
       "    </tr>\n",
       "    <tr>\n",
       "      <th>2</th>\n",
       "      <td>8</td>\n",
       "      <td>183</td>\n",
       "      <td>64</td>\n",
       "      <td>0</td>\n",
       "      <td>0</td>\n",
       "      <td>23.3</td>\n",
       "      <td>0.672</td>\n",
       "      <td>32</td>\n",
       "      <td>1</td>\n",
       "    </tr>\n",
       "    <tr>\n",
       "      <th>3</th>\n",
       "      <td>1</td>\n",
       "      <td>89</td>\n",
       "      <td>66</td>\n",
       "      <td>23</td>\n",
       "      <td>94</td>\n",
       "      <td>28.1</td>\n",
       "      <td>0.167</td>\n",
       "      <td>21</td>\n",
       "      <td>0</td>\n",
       "    </tr>\n",
       "    <tr>\n",
       "      <th>4</th>\n",
       "      <td>0</td>\n",
       "      <td>137</td>\n",
       "      <td>40</td>\n",
       "      <td>35</td>\n",
       "      <td>168</td>\n",
       "      <td>43.1</td>\n",
       "      <td>2.288</td>\n",
       "      <td>33</td>\n",
       "      <td>1</td>\n",
       "    </tr>\n",
       "  </tbody>\n",
       "</table>\n",
       "</div>"
      ],
      "text/plain": [
       "   Pregnancies  Glucose  BloodPressure  SkinThickness  Insulin   BMI  \\\n",
       "0            6      148             72             35        0  33.6   \n",
       "1            1       85             66             29        0  26.6   \n",
       "2            8      183             64              0        0  23.3   \n",
       "3            1       89             66             23       94  28.1   \n",
       "4            0      137             40             35      168  43.1   \n",
       "\n",
       "   DiabetesPedigreeFunction  Age  Outcome  \n",
       "0                     0.627   50        1  \n",
       "1                     0.351   31        0  \n",
       "2                     0.672   32        1  \n",
       "3                     0.167   21        0  \n",
       "4                     2.288   33        1  "
      ]
     },
     "execution_count": 2,
     "metadata": {},
     "output_type": "execute_result"
    }
   ],
   "source": [
    "df = pd.read_csv(\"diabetes.csv\")\n",
    "df.head()"
   ]
  },
  {
   "cell_type": "markdown",
   "id": "1eca3ebc",
   "metadata": {},
   "source": [
    "## Exploratory data analysis"
   ]
  },
  {
   "cell_type": "code",
   "execution_count": 3,
   "id": "036ef056",
   "metadata": {},
   "outputs": [
    {
     "data": {
      "text/html": [
       "<div>\n",
       "<style scoped>\n",
       "    .dataframe tbody tr th:only-of-type {\n",
       "        vertical-align: middle;\n",
       "    }\n",
       "\n",
       "    .dataframe tbody tr th {\n",
       "        vertical-align: top;\n",
       "    }\n",
       "\n",
       "    .dataframe thead th {\n",
       "        text-align: right;\n",
       "    }\n",
       "</style>\n",
       "<table border=\"1\" class=\"dataframe\">\n",
       "  <thead>\n",
       "    <tr style=\"text-align: right;\">\n",
       "      <th></th>\n",
       "      <th>count</th>\n",
       "      <th>mean</th>\n",
       "      <th>std</th>\n",
       "      <th>min</th>\n",
       "      <th>25%</th>\n",
       "      <th>50%</th>\n",
       "      <th>75%</th>\n",
       "      <th>max</th>\n",
       "    </tr>\n",
       "  </thead>\n",
       "  <tbody>\n",
       "    <tr>\n",
       "      <th>Pregnancies</th>\n",
       "      <td>768.0</td>\n",
       "      <td>3.845052</td>\n",
       "      <td>3.369578</td>\n",
       "      <td>0.000</td>\n",
       "      <td>1.00000</td>\n",
       "      <td>3.0000</td>\n",
       "      <td>6.00000</td>\n",
       "      <td>17.00</td>\n",
       "    </tr>\n",
       "    <tr>\n",
       "      <th>Glucose</th>\n",
       "      <td>768.0</td>\n",
       "      <td>120.894531</td>\n",
       "      <td>31.972618</td>\n",
       "      <td>0.000</td>\n",
       "      <td>99.00000</td>\n",
       "      <td>117.0000</td>\n",
       "      <td>140.25000</td>\n",
       "      <td>199.00</td>\n",
       "    </tr>\n",
       "    <tr>\n",
       "      <th>BloodPressure</th>\n",
       "      <td>768.0</td>\n",
       "      <td>69.105469</td>\n",
       "      <td>19.355807</td>\n",
       "      <td>0.000</td>\n",
       "      <td>62.00000</td>\n",
       "      <td>72.0000</td>\n",
       "      <td>80.00000</td>\n",
       "      <td>122.00</td>\n",
       "    </tr>\n",
       "    <tr>\n",
       "      <th>SkinThickness</th>\n",
       "      <td>768.0</td>\n",
       "      <td>20.536458</td>\n",
       "      <td>15.952218</td>\n",
       "      <td>0.000</td>\n",
       "      <td>0.00000</td>\n",
       "      <td>23.0000</td>\n",
       "      <td>32.00000</td>\n",
       "      <td>99.00</td>\n",
       "    </tr>\n",
       "    <tr>\n",
       "      <th>Insulin</th>\n",
       "      <td>768.0</td>\n",
       "      <td>79.799479</td>\n",
       "      <td>115.244002</td>\n",
       "      <td>0.000</td>\n",
       "      <td>0.00000</td>\n",
       "      <td>30.5000</td>\n",
       "      <td>127.25000</td>\n",
       "      <td>846.00</td>\n",
       "    </tr>\n",
       "    <tr>\n",
       "      <th>BMI</th>\n",
       "      <td>768.0</td>\n",
       "      <td>31.992578</td>\n",
       "      <td>7.884160</td>\n",
       "      <td>0.000</td>\n",
       "      <td>27.30000</td>\n",
       "      <td>32.0000</td>\n",
       "      <td>36.60000</td>\n",
       "      <td>67.10</td>\n",
       "    </tr>\n",
       "    <tr>\n",
       "      <th>DiabetesPedigreeFunction</th>\n",
       "      <td>768.0</td>\n",
       "      <td>0.471876</td>\n",
       "      <td>0.331329</td>\n",
       "      <td>0.078</td>\n",
       "      <td>0.24375</td>\n",
       "      <td>0.3725</td>\n",
       "      <td>0.62625</td>\n",
       "      <td>2.42</td>\n",
       "    </tr>\n",
       "    <tr>\n",
       "      <th>Age</th>\n",
       "      <td>768.0</td>\n",
       "      <td>33.240885</td>\n",
       "      <td>11.760232</td>\n",
       "      <td>21.000</td>\n",
       "      <td>24.00000</td>\n",
       "      <td>29.0000</td>\n",
       "      <td>41.00000</td>\n",
       "      <td>81.00</td>\n",
       "    </tr>\n",
       "    <tr>\n",
       "      <th>Outcome</th>\n",
       "      <td>768.0</td>\n",
       "      <td>0.348958</td>\n",
       "      <td>0.476951</td>\n",
       "      <td>0.000</td>\n",
       "      <td>0.00000</td>\n",
       "      <td>0.0000</td>\n",
       "      <td>1.00000</td>\n",
       "      <td>1.00</td>\n",
       "    </tr>\n",
       "  </tbody>\n",
       "</table>\n",
       "</div>"
      ],
      "text/plain": [
       "                          count        mean         std     min       25%  \\\n",
       "Pregnancies               768.0    3.845052    3.369578   0.000   1.00000   \n",
       "Glucose                   768.0  120.894531   31.972618   0.000  99.00000   \n",
       "BloodPressure             768.0   69.105469   19.355807   0.000  62.00000   \n",
       "SkinThickness             768.0   20.536458   15.952218   0.000   0.00000   \n",
       "Insulin                   768.0   79.799479  115.244002   0.000   0.00000   \n",
       "BMI                       768.0   31.992578    7.884160   0.000  27.30000   \n",
       "DiabetesPedigreeFunction  768.0    0.471876    0.331329   0.078   0.24375   \n",
       "Age                       768.0   33.240885   11.760232  21.000  24.00000   \n",
       "Outcome                   768.0    0.348958    0.476951   0.000   0.00000   \n",
       "\n",
       "                               50%        75%     max  \n",
       "Pregnancies                 3.0000    6.00000   17.00  \n",
       "Glucose                   117.0000  140.25000  199.00  \n",
       "BloodPressure              72.0000   80.00000  122.00  \n",
       "SkinThickness              23.0000   32.00000   99.00  \n",
       "Insulin                    30.5000  127.25000  846.00  \n",
       "BMI                        32.0000   36.60000   67.10  \n",
       "DiabetesPedigreeFunction    0.3725    0.62625    2.42  \n",
       "Age                        29.0000   41.00000   81.00  \n",
       "Outcome                     0.0000    1.00000    1.00  "
      ]
     },
     "execution_count": 3,
     "metadata": {},
     "output_type": "execute_result"
    }
   ],
   "source": [
    "df.describe().T"
   ]
  },
  {
   "cell_type": "code",
   "execution_count": 4,
   "id": "263c13a0",
   "metadata": {},
   "outputs": [],
   "source": [
    "df[\"Outcome\"] = df[\"Outcome\"].replace(0,-1)"
   ]
  },
  {
   "cell_type": "code",
   "execution_count": 5,
   "id": "1b5a94cf",
   "metadata": {},
   "outputs": [
    {
     "data": {
      "text/plain": [
       "Pregnancies                 0\n",
       "Glucose                     0\n",
       "BloodPressure               0\n",
       "SkinThickness               0\n",
       "Insulin                     0\n",
       "BMI                         0\n",
       "DiabetesPedigreeFunction    0\n",
       "Age                         0\n",
       "Outcome                     0\n",
       "dtype: int64"
      ]
     },
     "execution_count": 5,
     "metadata": {},
     "output_type": "execute_result"
    }
   ],
   "source": [
    "df.isnull().sum()"
   ]
  },
  {
   "cell_type": "code",
   "execution_count": 6,
   "id": "ae9cbb0c",
   "metadata": {},
   "outputs": [
    {
     "data": {
      "text/plain": [
       "-1    500\n",
       " 1    268\n",
       "Name: Outcome, dtype: int64"
      ]
     },
     "execution_count": 6,
     "metadata": {},
     "output_type": "execute_result"
    }
   ],
   "source": [
    "df[\"Outcome\"].value_counts()"
   ]
  },
  {
   "cell_type": "code",
   "execution_count": 7,
   "id": "dcbedb30",
   "metadata": {},
   "outputs": [
    {
     "data": {
      "text/plain": [
       "<AxesSubplot:xlabel='Outcome', ylabel='count'>"
      ]
     },
     "execution_count": 7,
     "metadata": {},
     "output_type": "execute_result"
    },
    {
     "data": {
      "image/png": "[encoded data removed]",
      "text/plain": [
       "<Figure size 288x288 with 1 Axes>"
      ]
     },
     "metadata": {
      "needs_background": "light"
     },
     "output_type": "display_data"
    }
   ],
   "source": [
    "plt.figure(figsize = (4,4)) \n",
    "sns.set_style(\"darkgrid\")\n",
    "sns.countplot(df[\"Outcome\"])"
   ]
  },
  {
   "cell_type": "markdown",
   "id": "4ef746e8",
   "metadata": {},
   "source": [
    "## Split the data into train and test"
   ]
  },
  {
   "cell_type": "code",
   "execution_count": 8,
   "id": "6396a35c",
   "metadata": {},
   "outputs": [],
   "source": [
    "x = df.iloc[:,:8]\n",
    "y = df[\"Outcome\"]"
   ]
  },
  {
   "cell_type": "code",
   "execution_count": 9,
   "id": "ec6eeb5d",
   "metadata": {},
   "outputs": [],
   "source": [
    "x_train,x_test,y_train,y_test = train_test_split(x,y,stratify=y,test_size=0.2,random_state=42)"
   ]
  },
  {
   "cell_type": "code",
   "execution_count": 10,
   "id": "44270278",
   "metadata": {},
   "outputs": [
    {
     "name": "stdout",
     "output_type": "stream",
     "text": [
      "Shape of training data: (614, 8)\n",
      "Shape of testing data: (154, 8)\n"
     ]
    }
   ],
   "source": [
    "print(\"Shape of training data:\",x_train.shape)\n",
    "print(\"Shape of testing data:\",x_test.shape)"
   ]
  },
  {
   "cell_type": "markdown",
   "id": "18bd0523",
   "metadata": {},
   "source": [
    "## Data Pre-processing"
   ]
  },
  {
   "cell_type": "code",
   "execution_count": 11,
   "id": "f4608f4c",
   "metadata": {},
   "outputs": [],
   "source": [
    "x_train = np.asarray(x_train)\n",
    "y_train = np.asarray(y_train)\n",
    "x_test = np.asarray(x_test)\n",
    "y_test = np.asarray(y_test)"
   ]
  },
  {
   "cell_type": "code",
   "execution_count": 12,
   "id": "6d6e168f",
   "metadata": {},
   "outputs": [
    {
     "name": "stdout",
     "output_type": "stream",
     "text": [
      "Label counts in testing dataset:\n",
      "[[ -1 100]\n",
      " [  1  54]]\n"
     ]
    }
   ],
   "source": [
    "unique,count = np.unique(y_test,return_counts=True)\n",
    "print(\"Label counts in testing dataset:\")\n",
    "print(np.asarray((unique, count)).T)"
   ]
  },
  {
   "cell_type": "code",
   "execution_count": 13,
   "id": "865a400a",
   "metadata": {},
   "outputs": [],
   "source": [
    "scaler = StandardScaler()\n",
    "scaler.fit(x_train)\n",
    "x_train = scaler.transform(x_train)\n",
    "x_test = scaler.transform(x_test)"
   ]
  },
  {
   "cell_type": "markdown",
   "id": "cebee24a",
   "metadata": {},
   "source": [
    "## Design a perceptron"
   ]
  },
  {
   "cell_type": "code",
   "execution_count": 14,
   "id": "551d7ded",
   "metadata": {},
   "outputs": [],
   "source": [
    "class Perceptron:\n",
    "    # default parameters learning rate and number of iterations\n",
    "    def __init__(self,learning_rate=0.01,n_iters=1000):\n",
    "        self.lr = learning_rate\n",
    "        self.n_iters = n_iters\n",
    "        self.activation_func = self.activation\n",
    "        self.weights = None\n",
    "        self.bias = None\n",
    "    # fit the data and update the respective weights based on optimization algorithm    \n",
    "    def fit(self,x,y):\n",
    "        n_samples,n_features = x.shape\n",
    "        self.weights = np.zeros(n_features)\n",
    "        self.bias = 0\n",
    "        \n",
    "        for _ in range(self.n_iters):\n",
    "            for idx,x_i in enumerate(x):\n",
    "                lo = self.bias + np.dot(x_i,self.weights)\n",
    "                y_pred = self.activation_func(lo)\n",
    "                error = y[idx] - y_pred\n",
    "                update = self.lr * error\n",
    "                # update weights\n",
    "                self.weights += (update * x_i)\n",
    "                self.bias += update\n",
    "    # predict the results by using activation function   \n",
    "    def predict(self,x):\n",
    "        lo = np.dot(x,self.weights) + self.bias\n",
    "        y_pred = self.activation_func(lo)\n",
    "        return y_pred\n",
    "    # defined unit-step function as an activation fuction   \n",
    "    def activation(self,x):\n",
    "        return np.where(x>=0,1,-1)\n",
    "    \n",
    "    def get_accuracy(self,y,y_pred):\n",
    "        acc = np.sum(y == y_pred) / len(y)\n",
    "        print(\"Overall accuracy: \",acc)\n",
    "        print(\"--------------------------------------------\")\n",
    "    \n",
    "    def get_report(self,y,y_pred):\n",
    "        target_names = ['class -1', 'class 1']\n",
    "        print(\"Classification Report:\")\n",
    "        print(classification_report(y, y_pred, target_names=target_names))\n",
    "        print(\"--------------------------------------------\")\n",
    "        \n",
    "    def get_sens_spec(self,y,y_pred):\n",
    "        confusion_matrix(y_test, preds)\n",
    "        tn,fp,fn,tp = confusion_matrix(y_test, preds).ravel()\n",
    "        specificity = tn / (tn+fp)\n",
    "        sensitivity = tp / (tp+fn)\n",
    "        print(\"Sensitivity: \",sensitivity)\n",
    "        print(\"Specificity: \",specificity)\n",
    "        print(\"--------------------------------------------\")\n",
    "    # takes different values of learning rate and iterations as a list. Applies different combinations of user given values of hyper-parameters.     \n",
    "    def tuning(self,learning_rate,n_iters,train_features,train_target,pred_feature,test_target):\n",
    "        print(\"Tuning:\")\n",
    "        print(\"-------\")\n",
    "        for i in learning_rate:\n",
    "            for j in n_iters:\n",
    "                p = Perceptron(learning_rate=i,n_iters=j)\n",
    "                p.fit(train_features,train_target)\n",
    "                preds = p.predict(pred_feature)\n",
    "                print(\"Learning rate: \",i)\n",
    "                print(\"Number of iterations: \",j)\n",
    "                p.get_accuracy(test_target,preds)\n",
    "                print(\"--------------------------------------------\")\n",
    "       "
   ]
  },
  {
   "cell_type": "code",
   "execution_count": 15,
   "id": "94679f73",
   "metadata": {},
   "outputs": [],
   "source": [
    "# created an object of a perceptron\n",
    "p = Perceptron(learning_rate=0.01,n_iters=100)\n",
    "# preceptron fitting and prediction\n",
    "p.fit(x_train,y_train)\n",
    "preds = p.predict(x_test)"
   ]
  },
  {
   "cell_type": "code",
   "execution_count": 16,
   "id": "09686fa5",
   "metadata": {},
   "outputs": [
    {
     "name": "stdout",
     "output_type": "stream",
     "text": [
      "Overall accuracy:  0.6493506493506493\n",
      "--------------------------------------------\n"
     ]
    }
   ],
   "source": [
    "# testing dataset accuracy\n",
    "p.get_accuracy(y_test,preds)"
   ]
  },
  {
   "cell_type": "code",
   "execution_count": 17,
   "id": "5f696d8b",
   "metadata": {},
   "outputs": [
    {
     "name": "stdout",
     "output_type": "stream",
     "text": [
      "Classification Report:\n",
      "              precision    recall  f1-score   support\n",
      "\n",
      "    class -1       0.77      0.65      0.71       100\n",
      "     class 1       0.50      0.65      0.56        54\n",
      "\n",
      "    accuracy                           0.65       154\n",
      "   macro avg       0.64      0.65      0.64       154\n",
      "weighted avg       0.68      0.65      0.66       154\n",
      "\n",
      "--------------------------------------------\n"
     ]
    }
   ],
   "source": [
    "# classification report of model on testing set\n",
    "p.get_report(y_test,preds)"
   ]
  },
  {
   "cell_type": "code",
   "execution_count": 18,
   "id": "6bfba730",
   "metadata": {},
   "outputs": [
    {
     "name": "stdout",
     "output_type": "stream",
     "text": [
      "Sensitivity:  0.6481481481481481\n",
      "Specificity:  0.65\n",
      "--------------------------------------------\n"
     ]
    }
   ],
   "source": [
    "# model sensitivity and specificity on testing dataset\n",
    "p.get_sens_spec(y_test,preds)"
   ]
  },
  {
   "cell_type": "code",
   "execution_count": 21,
   "id": "81043eda",
   "metadata": {},
   "outputs": [
    {
     "name": "stdout",
     "output_type": "stream",
     "text": [
      "Tuning:\n",
      "-------\n",
      "Learning rate:  0.01\n",
      "Number of iterations:  2000\n",
      "Overall accuracy:  0.6883116883116883\n",
      "--------------------------------------------\n",
      "--------------------------------------------\n",
      "Learning rate:  0.01\n",
      "Number of iterations:  4000\n",
      "Overall accuracy:  0.7207792207792207\n",
      "--------------------------------------------\n",
      "--------------------------------------------\n",
      "Learning rate:  0.01\n",
      "Number of iterations:  6000\n",
      "Overall accuracy:  0.6688311688311688\n",
      "--------------------------------------------\n",
      "--------------------------------------------\n"
     ]
    }
   ],
   "source": [
    "# Tuning\n",
    "learning_rate = [0.01]\n",
    "n_iters = [2000,4000,6000]\n",
    "p.tuning(learning_rate,n_iters,x_train,y_train,x_test,y_test)"
   ]
  },
  {
   "cell_type": "code",
   "execution_count": 22,
   "id": "7fdffe7a",
   "metadata": {},
   "outputs": [
    {
     "name": "stdout",
     "output_type": "stream",
     "text": [
      "Overall accuracy:  0.7207792207792207\n",
      "--------------------------------------------\n",
      "Classification Report:\n",
      "              precision    recall  f1-score   support\n",
      "\n",
      "    class -1       0.82      0.73      0.77       100\n",
      "     class 1       0.58      0.70      0.64        54\n",
      "\n",
      "    accuracy                           0.72       154\n",
      "   macro avg       0.70      0.72      0.71       154\n",
      "weighted avg       0.74      0.72      0.73       154\n",
      "\n",
      "--------------------------------------------\n",
      "Sensitivity:  0.7037037037037037\n",
      "Specificity:  0.73\n",
      "--------------------------------------------\n"
     ]
    }
   ],
   "source": [
    "# Created a new object of a perceptron with new hyper-parameters based on tuning\n",
    "p = Perceptron(learning_rate=0.01,n_iters=4000)\n",
    "p.fit(x_train,y_train)\n",
    "preds = p.predict(x_test)\n",
    "# performance on testing dataset\n",
    "p.get_accuracy(y_test,preds)\n",
    "p.get_report(y_test,preds)\n",
    "p.get_sens_spec(y_test,preds)"
   ]
  }
 ],
 "metadata": {
  "kernelspec": {
   "display_name": "Python 3",
   "language": "python",
   "name": "python3"
  },
  "language_info": {
   "codemirror_mode": {
    "name": "ipython",
    "version": 3
   },
   "file_extension": ".py",
   "mimetype": "text/x-python",
   "name": "python",
   "nbconvert_exporter": "python",
   "pygments_lexer": "ipython3",
   "version": "3.8.8"
  }
 },
 "nbformat": 4,
 "nbformat_minor": 5
}
